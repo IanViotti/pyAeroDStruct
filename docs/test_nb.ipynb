{
 "cells": [
  {
   "cell_type": "markdown",
   "id": "ebbcb051-f9de-45ea-ae30-fe63fe4c38de",
   "metadata": {},
   "source": [
    "# NB to test PyAeroDStruct repo "
   ]
  },
  {
   "cell_type": "code",
   "execution_count": 1,
   "id": "f8b7c501-b811-4deb-bd43-f339441b8ee8",
   "metadata": {},
   "outputs": [],
   "source": [
    "import sys, os\n",
    "os.chdir(os.path.abspath('../'))\n",
    "sys.path.append(os.getcwd())"
   ]
  },
  {
   "cell_type": "code",
   "execution_count": 2,
   "id": "eb84b3ef-6ab1-48c8-b5e1-a17ae05ea17d",
   "metadata": {},
   "outputs": [],
   "source": [
    "import pyAeroDStruct as pas\n",
    "import matplotlib.pyplot as plt"
   ]
  },
  {
   "cell_type": "code",
   "execution_count": 3,
   "id": "191c99b2-e4bc-4ac9-b8fb-29af5449c773",
   "metadata": {},
   "outputs": [
    {
     "data": {
      "text/plain": [
       "Air craft parameters \n",
       " Span: 1000\n",
       " MTOW: 15"
      ]
     },
     "execution_count": 3,
     "metadata": {},
     "output_type": "execute_result"
    }
   ],
   "source": [
    "plane1 = pas.Plane(1000, 15, 20)\n",
    "plane1"
   ]
  },
  {
   "cell_type": "code",
   "execution_count": 4,
   "id": "30140df9-7548-4c31-9286-e4bfb6df866b",
   "metadata": {
    "tags": []
   },
   "outputs": [],
   "source": [
    "load1 = pas.Load(plane1)\n",
    "lift = load1.read_lift(sep=';')"
   ]
  },
  {
   "cell_type": "code",
   "execution_count": 5,
   "id": "f10f5673-08e0-4bb0-a6ed-7176c49bad3b",
   "metadata": {
    "tags": []
   },
   "outputs": [
    {
     "name": "stdout",
     "output_type": "stream",
     "text": [
      "{'geometry': 'Full circular', 'radius': 10}\n"
     ]
    }
   ],
   "source": [
    "spar1 = pas.Spar(plane1)\n",
    "spar1.define_geometry(geometry = 'Full circular', radius = 10)"
   ]
  },
  {
   "cell_type": "code",
   "execution_count": 6,
   "id": "3acd287b-c2de-4f58-9933-cdff5a7a3184",
   "metadata": {},
   "outputs": [
    {
     "name": "stdout",
     "output_type": "stream",
     "text": [
      "{'geometry': 'Full circular', 'radius': 5}\n"
     ]
    }
   ],
   "source": [
    "spar1.add_tappering('discrete', 100, 150, geometry = 'Full circular', radius = 5)"
   ]
  },
  {
   "cell_type": "code",
   "execution_count": 7,
   "id": "b947ff19-52ab-464b-8247-a8a9879662c4",
   "metadata": {},
   "outputs": [],
   "source": [
    "spar1.add_tappering('discrete', 500, \n",
    "                    geometry = 'Hollowed circular', \n",
    "                    radius = 3, inner_radius = 2)"
   ]
  },
  {
   "cell_type": "code",
   "execution_count": 8,
   "id": "17f03699-161c-4659-a319-debb68a56d56",
   "metadata": {},
   "outputs": [
    {
     "data": {
      "text/plain": [
       "[{'r': 10,\n",
       "  'A': 314.1592653589793,\n",
       "  'I1': 7853.981633974483,\n",
       "  'I2': 7853.981633974483,\n",
       "  'J12': 15707.963267948966},\n",
       " {'r': 5,\n",
       "  'A': 78.53981633974483,\n",
       "  'I1': 490.8738521234052,\n",
       "  'I2': 490.8738521234052,\n",
       "  'J12': 981.7477042468104},\n",
       " {'r': 3,\n",
       "  'ir': 2,\n",
       "  'A': 15.707963267948966,\n",
       "  'I1': 51.050880620834135,\n",
       "  'I2': 51.050880620834135,\n",
       "  'J12': 102.10176124166827}]"
      ]
     },
     "execution_count": 8,
     "metadata": {},
     "output_type": "execute_result"
    }
   ],
   "source": [
    "spar1._geometry_prop"
   ]
  },
  {
   "cell_type": "code",
   "execution_count": 9,
   "id": "ab5e941a-15b2-415d-82f4-977678f8c3b6",
   "metadata": {},
   "outputs": [
    {
     "data": {
      "text/plain": [
       "[100, 500]"
      ]
     },
     "execution_count": 9,
     "metadata": {},
     "output_type": "execute_result"
    }
   ],
   "source": [
    "spar1._taper"
   ]
  },
  {
   "cell_type": "code",
   "execution_count": 10,
   "id": "30c5102e-2a02-4fa5-8031-2cbc85a4cbc4",
   "metadata": {},
   "outputs": [
    {
     "data": {
      "text/plain": [
       "20"
      ]
     },
     "execution_count": 10,
     "metadata": {},
     "output_type": "execute_result"
    }
   ],
   "source": [
    "len(spar1._y)"
   ]
  },
  {
   "cell_type": "code",
   "execution_count": 11,
   "id": "41d4f24c-987b-4927-bc37-511c7a64af35",
   "metadata": {},
   "outputs": [
    {
     "data": {
      "text/plain": [
       "[100, 500]"
      ]
     },
     "execution_count": 11,
     "metadata": {},
     "output_type": "execute_result"
    }
   ],
   "source": [
    "spar1._taper"
   ]
  },
  {
   "cell_type": "code",
   "execution_count": 12,
   "id": "cdcf1fde-1b04-495a-98ff-967b410ff3f0",
   "metadata": {},
   "outputs": [
    {
     "data": {
      "text/plain": [
       "[{'r': 10,\n",
       "  'A': 314.1592653589793,\n",
       "  'I1': 7853.981633974483,\n",
       "  'I2': 7853.981633974483,\n",
       "  'J12': 15707.963267948966},\n",
       " {'r': 5,\n",
       "  'A': 78.53981633974483,\n",
       "  'I1': 490.8738521234052,\n",
       "  'I2': 490.8738521234052,\n",
       "  'J12': 981.7477042468104},\n",
       " {'r': 3,\n",
       "  'ir': 2,\n",
       "  'A': 15.707963267948966,\n",
       "  'I1': 51.050880620834135,\n",
       "  'I2': 51.050880620834135,\n",
       "  'J12': 102.10176124166827}]"
      ]
     },
     "execution_count": 12,
     "metadata": {},
     "output_type": "execute_result"
    }
   ],
   "source": [
    "spar1._geometry_prop"
   ]
  },
  {
   "cell_type": "code",
   "execution_count": 13,
   "id": "b17fd924-47ed-4bf6-9367-25d30543680f",
   "metadata": {},
   "outputs": [
    {
     "data": {
      "text/plain": [
       "array([   0.        ,   52.63157895,  105.26315789,  157.89473684,\n",
       "        210.52631579,  263.15789474,  315.78947368,  368.42105263,\n",
       "        421.05263158,  473.68421053,  526.31578947,  578.94736842,\n",
       "        631.57894737,  684.21052632,  736.84210526,  789.47368421,\n",
       "        842.10526316,  894.73684211,  947.36842105, 1000.        ])"
      ]
     },
     "execution_count": 13,
     "metadata": {},
     "output_type": "execute_result"
    }
   ],
   "source": [
    "spar1._y"
   ]
  },
  {
   "cell_type": "code",
   "execution_count": 14,
   "id": "476e1487-baab-4df6-bdb4-5b449939918a",
   "metadata": {},
   "outputs": [
    {
     "name": "stdout",
     "output_type": "stream",
     "text": [
      "0\n",
      "0\n",
      "1\n",
      "1\n",
      "1\n",
      "1\n",
      "1\n",
      "1\n",
      "1\n",
      "1\n",
      "2\n",
      "2\n",
      "2\n",
      "2\n",
      "2\n",
      "2\n",
      "2\n",
      "2\n",
      "2\n",
      "2\n"
     ]
    }
   ],
   "source": [
    "spar1.geometry_y()"
   ]
  },
  {
   "cell_type": "code",
   "execution_count": 15,
   "id": "c0cd7ed1-38e1-451a-980b-80a9df9157bd",
   "metadata": {},
   "outputs": [
    {
     "data": {
      "text/plain": [
       "[314.1592653589793,\n",
       " 314.1592653589793,\n",
       " 78.53981633974483,\n",
       " 78.53981633974483,\n",
       " 78.53981633974483,\n",
       " 78.53981633974483,\n",
       " 78.53981633974483,\n",
       " 78.53981633974483,\n",
       " 78.53981633974483,\n",
       " 78.53981633974483,\n",
       " 15.707963267948966,\n",
       " 15.707963267948966,\n",
       " 15.707963267948966,\n",
       " 15.707963267948966,\n",
       " 15.707963267948966,\n",
       " 15.707963267948966,\n",
       " 15.707963267948966,\n",
       " 15.707963267948966,\n",
       " 15.707963267948966,\n",
       " 15.707963267948966]"
      ]
     },
     "execution_count": 15,
     "metadata": {},
     "output_type": "execute_result"
    }
   ],
   "source": [
    "spar1._A_y"
   ]
  },
  {
   "cell_type": "code",
   "execution_count": null,
   "id": "ab599bef-fde3-472b-bdf5-94fb359cc874",
   "metadata": {},
   "outputs": [],
   "source": []
  },
  {
   "cell_type": "code",
   "execution_count": null,
   "id": "a1f0ed10-8b70-46b1-91ae-c088b98aa192",
   "metadata": {},
   "outputs": [],
   "source": []
  }
 ],
 "metadata": {
  "kernelspec": {
   "display_name": "repo_kernel",
   "language": "python",
   "name": "repo_kernel"
  },
  "language_info": {
   "codemirror_mode": {
    "name": "ipython",
    "version": 3
   },
   "file_extension": ".py",
   "mimetype": "text/x-python",
   "name": "python",
   "nbconvert_exporter": "python",
   "pygments_lexer": "ipython3",
   "version": "3.9.12"
  }
 },
 "nbformat": 4,
 "nbformat_minor": 5
}
