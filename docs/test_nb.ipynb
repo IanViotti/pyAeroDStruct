{
 "cells": [
  {
   "cell_type": "markdown",
   "id": "ebbcb051-f9de-45ea-ae30-fe63fe4c38de",
   "metadata": {},
   "source": [
    "# NB to test PyAeroDStruct repo "
   ]
  },
  {
   "cell_type": "code",
   "execution_count": 1,
   "id": "f8b7c501-b811-4deb-bd43-f339441b8ee8",
   "metadata": {},
   "outputs": [],
   "source": [
    "import sys, os\n",
    "os.chdir(os.path.abspath('../'))\n",
    "sys.path.append(os.getcwd())"
   ]
  },
  {
   "cell_type": "code",
   "execution_count": 2,
   "id": "eb84b3ef-6ab1-48c8-b5e1-a17ae05ea17d",
   "metadata": {},
   "outputs": [],
   "source": [
    "import pyAeroDStruct as pas"
   ]
  },
  {
   "cell_type": "code",
   "execution_count": 3,
   "id": "191c99b2-e4bc-4ac9-b8fb-29af5449c773",
   "metadata": {},
   "outputs": [
    {
     "data": {
      "text/plain": [
       "Wing parameters \n",
       " Span: 1000\n",
       " MTOW: 15"
      ]
     },
     "execution_count": 3,
     "metadata": {},
     "output_type": "execute_result"
    }
   ],
   "source": [
    "plane1 = pas.Plane(1000, 15,100)\n",
    "plane1"
   ]
  },
  {
   "cell_type": "code",
   "execution_count": 23,
   "id": "7a139430-08ed-415e-8bf2-58ad82c6cac3",
   "metadata": {
    "tags": []
   },
   "outputs": [
    {
     "ename": "TypeError",
     "evalue": "'numpy.ndarray' object is not callable",
     "output_type": "error",
     "traceback": [
      "\u001b[1;31m---------------------------------------------------------------------------\u001b[0m",
      "\u001b[1;31mTypeError\u001b[0m                                 Traceback (most recent call last)",
      "Input \u001b[1;32mIn [23]\u001b[0m, in \u001b[0;36m<cell line: 1>\u001b[1;34m()\u001b[0m\n\u001b[1;32m----> 1\u001b[0m \u001b[43mplane1\u001b[49m\u001b[38;5;241;43m.\u001b[39;49m\u001b[43my\u001b[49m\u001b[43m(\u001b[49m\u001b[43m)\u001b[49m\n",
      "\u001b[1;31mTypeError\u001b[0m: 'numpy.ndarray' object is not callable"
     ]
    }
   ],
   "source": [
    "plane1.y()"
   ]
  },
  {
   "cell_type": "code",
   "execution_count": 5,
   "id": "a5708b98-65d3-4c8b-bbb4-85cac45e70db",
   "metadata": {},
   "outputs": [
    {
     "data": {
      "text/plain": [
       "100"
      ]
     },
     "execution_count": 5,
     "metadata": {},
     "output_type": "execute_result"
    }
   ],
   "source": [
    "len(plane1.chord)"
   ]
  },
  {
   "cell_type": "code",
   "execution_count": 6,
   "id": "fc23c64f-c32e-4da6-979e-3f97fe12ca05",
   "metadata": {
    "tags": []
   },
   "outputs": [
    {
     "data": {
      "text/plain": [
       "100"
      ]
     },
     "execution_count": 6,
     "metadata": {},
     "output_type": "execute_result"
    }
   ],
   "source": [
    "len(plane1.cm)"
   ]
  },
  {
   "cell_type": "code",
   "execution_count": 7,
   "id": "5e8ece2d-b7e6-4d65-9af7-51d191eed72f",
   "metadata": {},
   "outputs": [],
   "source": [
    "import matplotlib.pyplot as plt"
   ]
  },
  {
   "cell_type": "code",
   "execution_count": 8,
   "id": "c43d49c8-1ceb-4994-82da-a46bdf02e292",
   "metadata": {},
   "outputs": [
    {
     "data": {
      "image/png": "[encoded data removed]",
      "text/plain": [
       "<Figure size 432x288 with 1 Axes>"
      ]
     },
     "metadata": {
      "needs_background": "light"
     },
     "output_type": "display_data"
    }
   ],
   "source": [
    "plt.plot(plane1.y, plane1.cm)\n",
    "plt.show()"
   ]
  },
  {
   "cell_type": "code",
   "execution_count": 9,
   "id": "7f9f6b38-0281-4945-ba79-4158716d3266",
   "metadata": {
    "tags": []
   },
   "outputs": [
    {
     "data": {
      "text/plain": [
       "array([45.89494101, 45.89493958, 45.89491133, 45.89324195, 45.88496965,\n",
       "       45.87666165, 45.86836041, 45.86006035, 45.85171394, 45.83770431,\n",
       "       45.8209294 , 45.80417162, 45.7874122 , 45.77067064, 45.75165877,\n",
       "       45.72636193, 45.7008268 , 45.67528696, 45.64973625, 45.62260915,\n",
       "       45.5883432 , 45.55356111, 45.5187747 , 45.48407599, 45.44446884,\n",
       "       45.39969766, 45.35494238, 45.31022009, 45.26074933, 45.20479018,\n",
       "       45.14881907, 45.09103062, 45.02214269, 44.95221024, 44.87147432,\n",
       "       44.7771287 , 44.64668863, 44.51897203, 44.37610496, 44.21845239,\n",
       "       44.05738611, 43.89621131, 43.72775   , 43.55058328, 43.37349265,\n",
       "       43.19492008, 43.00618564, 42.81681688, 42.62742651, 42.43228454,\n",
       "       42.23416567, 42.03620536, 41.83671491, 41.63332589, 41.4300212 ,\n",
       "       41.22606596, 41.01070434, 40.79294011, 40.57557088, 40.34788074,\n",
       "       40.10941105, 39.8714208 , 39.63006794, 39.36894171, 39.10686881,\n",
       "       38.84546369, 38.56218391, 38.26969422, 37.97826818, 37.67484165,\n",
       "       37.34208014, 37.01065001, 36.67866395, 36.29477135, 35.90495135,\n",
       "       35.51684124, 35.16808219, 34.86050251, 34.27582297, 33.60283985,\n",
       "       32.9336371 , 32.26867695, 31.6087717 , 30.89930253, 30.12448206,\n",
       "       29.35768679, 28.59342864, 27.69383945, 26.76716098, 25.85513792,\n",
       "       24.88542068, 23.68366202, 22.50623522, 21.35553265, 19.81409891,\n",
       "       18.04817161, 16.34894696, 12.57543514,  3.7028132 ,  0.        ])"
      ]
     },
     "execution_count": 9,
     "metadata": {},
     "output_type": "execute_result"
    }
   ],
   "source": [
    "load1 = pas.Load(plane1)\n",
    "ls = load1.read_lift()\n",
    "ls"
   ]
  },
  {
   "cell_type": "code",
   "execution_count": 10,
   "id": "7f7e04f8-fefc-4608-bcde-15b32afe4bb6",
   "metadata": {},
   "outputs": [
    {
     "data": {
      "text/plain": [
       "[<matplotlib.lines.Line2D at 0x17a5e522d90>]"
      ]
     },
     "execution_count": 10,
     "metadata": {},
     "output_type": "execute_result"
    },
    {
     "data": {
      "image/png": "[encoded data removed]",
      "text/plain": [
       "<Figure size 432x288 with 1 Axes>"
      ]
     },
     "metadata": {
      "needs_background": "light"
     },
     "output_type": "display_data"
    }
   ],
   "source": [
    "plt.plot(plane1.y, ls)"
   ]
  },
  {
   "cell_type": "code",
   "execution_count": 11,
   "id": "3c397347-10d4-44f0-a9b7-3785ddd953a3",
   "metadata": {},
   "outputs": [
    {
     "data": {
      "text/plain": [
       "array([-3.88460990e+04, -3.83825138e+04, -3.79189287e+04, -3.74553521e+04,\n",
       "       -3.69918258e+04, -3.65283832e+04, -3.60650245e+04, -3.56017497e+04,\n",
       "       -3.51385589e+04, -3.46754810e+04, -3.42125586e+04, -3.37498056e+04,\n",
       "       -3.32872219e+04, -3.28248073e+04, -3.23625733e+04, -3.19005631e+04,\n",
       "       -3.14388096e+04, -3.09773141e+04, -3.05160766e+04, -3.00551052e+04,\n",
       "       -2.95944438e+04, -2.91341311e+04, -2.86741699e+04, -2.82145595e+04,\n",
       "       -2.77553244e+04, -2.72965155e+04, -2.68381587e+04, -2.63802539e+04,\n",
       "       -2.59228247e+04, -2.54659281e+04, -2.50095967e+04, -2.45538399e+04,\n",
       "       -2.40987229e+04, -2.36443069e+04, -2.31906520e+04, -2.27378812e+04,\n",
       "       -2.22862458e+04, -2.18359142e+04, -2.13869491e+04, -2.09395019e+04,\n",
       "       -2.04936643e+04, -2.00494542e+04, -1.96069090e+04, -1.91661093e+04,\n",
       "       -1.87270988e+04, -1.82898846e+04, -1.78545255e+04, -1.74210760e+04,\n",
       "       -1.69895394e+04, -1.65599449e+04, -1.61323366e+04, -1.57067286e+04,\n",
       "       -1.52831280e+04, -1.48615622e+04, -1.44420503e+04, -1.40245953e+04,\n",
       "       -1.36092581e+04, -1.31961084e+04, -1.27851563e+04, -1.23764520e+04,\n",
       "       -1.19701020e+04, -1.15661585e+04, -1.11646358e+04, -1.07656509e+04,\n",
       "       -1.03693084e+04, -9.97560976e+03, -9.58466204e+03, -9.19662225e+03,\n",
       "       -8.81153153e+03, -8.42944512e+03, -8.05057178e+03, -7.67505294e+03,\n",
       "       -7.30288469e+03, -6.93433198e+03, -6.56968692e+03, -6.20897079e+03,\n",
       "       -5.85197623e+03, -5.49829651e+03, -5.14912315e+03, -4.80630162e+03,\n",
       "       -4.47025881e+03, -4.14095419e+03, -3.81834081e+03, -3.50264347e+03,\n",
       "       -3.19444254e+03, -2.89402754e+03, -2.60134514e+03, -2.31706601e+03,\n",
       "       -2.04201045e+03, -1.77624127e+03, -1.51997582e+03, -1.27467742e+03,\n",
       "       -1.04139511e+03, -8.19871032e+02, -6.11943600e+02, -4.20720011e+02,\n",
       "       -2.46997190e+02, -1.00914452e+02, -1.87010768e+01, -0.00000000e+00])"
      ]
     },
     "execution_count": 11,
     "metadata": {},
     "output_type": "execute_result"
    }
   ],
   "source": [
    "load1.V()"
   ]
  },
  {
   "cell_type": "code",
   "execution_count": 12,
   "id": "c41f8453-0d16-4cbb-92ac-585c6aad1257",
   "metadata": {},
   "outputs": [
    {
     "data": {
      "text/plain": [
       "numpy.ndarray"
      ]
     },
     "execution_count": 12,
     "metadata": {},
     "output_type": "execute_result"
    }
   ],
   "source": [
    "type(load1.V())"
   ]
  },
  {
   "cell_type": "code",
   "execution_count": 16,
   "id": "f6b96d3a-4eec-450c-9158-161a741c5110",
   "metadata": {},
   "outputs": [
    {
     "data": {
      "text/plain": [
       "[<matplotlib.lines.Line2D at 0x17a5e42e1f0>]"
      ]
     },
     "execution_count": 16,
     "metadata": {},
     "output_type": "execute_result"
    },
    {
     "data": {
      "image/png": "[encoded data removed]",
      "text/plain": [
       "<Figure size 432x288 with 1 Axes>"
      ]
     },
     "metadata": {
      "needs_background": "light"
     },
     "output_type": "display_data"
    }
   ],
   "source": [
    "plt.plot(plane1.y, load1.V(-5000))"
   ]
  },
  {
   "cell_type": "code",
   "execution_count": 19,
   "id": "9c26ebac-c5d1-4c89-9355-96984a17b750",
   "metadata": {},
   "outputs": [
    {
     "data": {
      "text/plain": [
       "[<matplotlib.lines.Line2D at 0x17a5e79ff70>]"
      ]
     },
     "execution_count": 19,
     "metadata": {},
     "output_type": "execute_result"
    },
    {
     "data": {
      "image/png": "[encoded data removed]",
      "text/plain": [
       "<Figure size 432x288 with 1 Axes>"
      ]
     },
     "metadata": {
      "needs_background": "light"
     },
     "output_type": "display_data"
    }
   ],
   "source": [
    "plt.plot(plane1.y, load1.M(1))"
   ]
  },
  {
   "cell_type": "code",
   "execution_count": null,
   "id": "30140df9-7548-4c31-9286-e4bfb6df866b",
   "metadata": {},
   "outputs": [],
   "source": []
  }
 ],
 "metadata": {
  "kernelspec": {
   "display_name": "repo_kernel",
   "language": "python",
   "name": "repo_kernel"
  },
  "language_info": {
   "codemirror_mode": {
    "name": "ipython",
    "version": 3
   },
   "file_extension": ".py",
   "mimetype": "text/x-python",
   "name": "python",
   "nbconvert_exporter": "python",
   "pygments_lexer": "ipython3",
   "version": "3.9.12"
  }
 },
 "nbformat": 4,
 "nbformat_minor": 5
}
